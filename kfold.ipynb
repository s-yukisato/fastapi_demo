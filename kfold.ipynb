{
  "nbformat": 4,
  "nbformat_minor": 0,
  "metadata": {
    "colab": {
      "name": "kfold.ipynb",
      "provenance": [],
      "collapsed_sections": [],
      "authorship_tag": "ABX9TyOPTWRuD4lAKOsKq5PxNi4z",
      "include_colab_link": true
    },
    "kernelspec": {
      "name": "python3",
      "display_name": "Python 3"
    },
    "language_info": {
      "name": "python"
    }
  },
  "cells": [
    {
      "cell_type": "markdown",
      "metadata": {
        "id": "view-in-github",
        "colab_type": "text"
      },
      "source": [
        "<a href=\"https://colab.research.google.com/github/s-yukisato/fastapi_demo/blob/main/kfold.ipynb\" target=\"_parent\"><img src=\"https://colab.research.google.com/assets/colab-badge.svg\" alt=\"Open In Colab\"/></a>"
      ]
    },
    {
      "cell_type": "code",
      "execution_count": 1,
      "metadata": {
        "id": "-zLNZ0QUPWCR"
      },
      "outputs": [],
      "source": [
        "import numpy as np\n",
        "import pandas as pd\n",
        "import pickle"
      ]
    },
    {
      "cell_type": "code",
      "source": [
        "from sklearn.model_selection import train_test_split, KFold\n",
        "from sklearn.metrics import accuracy_score\n",
        "import lightgbm as lgb"
      ],
      "metadata": {
        "id": "2G0_Xax6R2yN"
      },
      "execution_count": 56,
      "outputs": []
    },
    {
      "cell_type": "code",
      "source": [
        "train = pd.read_csv(\"../content/train.csv\")\n",
        "test = pd.read_csv(\"../content/test.csv\")"
      ],
      "metadata": {
        "id": "nfY2XDpXUmhi"
      },
      "execution_count": 89,
      "outputs": []
    },
    {
      "cell_type": "code",
      "source": [
        "print(f\"train shape: {train.shape} | test shape : {test.shape}\")"
      ],
      "metadata": {
        "colab": {
          "base_uri": "https://localhost:8080/"
        },
        "id": "_fwpQJgqUx-_",
        "outputId": "1bfa85c7-f22b-44e0-db5b-d6acb1a05229"
      },
      "execution_count": 90,
      "outputs": [
        {
          "output_type": "stream",
          "name": "stdout",
          "text": [
            "train shape: (891, 12) | test shape : (418, 11)\n"
          ]
        }
      ]
    },
    {
      "cell_type": "code",
      "source": [
        "df = pd.concat([train, test])"
      ],
      "metadata": {
        "id": "HLQfpcPuVJ0M"
      },
      "execution_count": 91,
      "outputs": []
    },
    {
      "cell_type": "code",
      "source": [
        "df[\"IsAlone\"] = ((df[\"SibSp\"] == 0) & (df[\"Parch\"] == 0)).astype(int)"
      ],
      "metadata": {
        "id": "JJVxRMpSVhwg"
      },
      "execution_count": 92,
      "outputs": []
    },
    {
      "cell_type": "code",
      "source": [
        "df[\"Embarked\"].fillna((\"S\"), inplace=True)"
      ],
      "metadata": {
        "id": "T3f7gBzFVL2z"
      },
      "execution_count": 93,
      "outputs": []
    },
    {
      "cell_type": "code",
      "source": [
        "df[\"Age\"].fillna((df[\"Age\"].median()), inplace=True)\n",
        "df[\"Fare\"].fillna((df[\"Fare\"].mean()), inplace=True)"
      ],
      "metadata": {
        "id": "uLlHOaWaZyHg"
      },
      "execution_count": 94,
      "outputs": []
    },
    {
      "cell_type": "code",
      "source": [
        "df = pd.get_dummies(df, columns=[\"Embarked\", \"Sex\"])"
      ],
      "metadata": {
        "id": "zF9gcmtAZftT"
      },
      "execution_count": 95,
      "outputs": []
    },
    {
      "cell_type": "code",
      "source": [
        "delete_columns = ['Name', 'PassengerId', 'Ticket', 'Cabin']\n",
        "df.drop(delete_columns, axis=1, inplace=True)"
      ],
      "metadata": {
        "id": "s58TA1X5ajx1"
      },
      "execution_count": 96,
      "outputs": []
    },
    {
      "cell_type": "code",
      "source": [
        "train = df[:len(train)]\n",
        "test = df[len(train):]"
      ],
      "metadata": {
        "id": "xTsTsA3IcS7I"
      },
      "execution_count": 97,
      "outputs": []
    },
    {
      "cell_type": "code",
      "source": [
        "test.drop([\"Survived\"], axis=1, inplace=True)"
      ],
      "metadata": {
        "colab": {
          "base_uri": "https://localhost:8080/"
        },
        "id": "yKZjKZS0duCP",
        "outputId": "dae588d4-8c60-4175-f3b6-8d457c3d053e"
      },
      "execution_count": 98,
      "outputs": [
        {
          "output_type": "stream",
          "name": "stderr",
          "text": [
            "/usr/local/lib/python3.7/dist-packages/pandas/core/frame.py:4913: SettingWithCopyWarning: \n",
            "A value is trying to be set on a copy of a slice from a DataFrame\n",
            "\n",
            "See the caveats in the documentation: https://pandas.pydata.org/pandas-docs/stable/user_guide/indexing.html#returning-a-view-versus-a-copy\n",
            "  errors=errors,\n"
          ]
        }
      ]
    },
    {
      "cell_type": "code",
      "source": [
        "X_train = train.drop(['Survived'], axis=1)\n",
        "X_test = test\n",
        "y_train = train['Survived']"
      ],
      "metadata": {
        "id": "ACt_4dpIeBZh"
      },
      "execution_count": 99,
      "outputs": []
    },
    {
      "cell_type": "code",
      "source": [
        "kf = KFold(n_splits=3, shuffle=True, random_state=0)\n",
        "\n",
        "score_list = []\n",
        "models = []\n",
        "\n",
        "for fold_, (train_ind, valid_ind) in enumerate(kf.split(X_train, y_train)):\n",
        "  train_x, train_y = X_train.iloc[train_ind], y_train.iloc[train_ind]\n",
        "  valid_x, valid_y = X_train.iloc[valid_ind], y_train.iloc[valid_ind]\n",
        "\n",
        "  lgb_train = lgb.Dataset(train_x, train_y)\n",
        "  lgb_valid = lgb.Dataset(valid_x, valid_y)\n",
        "\n",
        "  lgbm_params = {\n",
        "      \"objective\": \"binary\"\n",
        "  }\n",
        "\n",
        "  gbm = lgb.train(params=lgbm_params,\n",
        "                  train_set=lgb_train,\n",
        "                  valid_sets=[lgb_train, lgb_valid],\n",
        "                  early_stopping_rounds=10,\n",
        "                  verbose_eval=-1\n",
        "                  )\n",
        "  oof = (gbm.predict(valid_x) > 0.5).astype(int)\n",
        "  score_list.append(round(accuracy_score(valid_y, oof) * 100, 2))\n",
        "  models.append(gbm)\n",
        "\n",
        "  print(f\"fold{fold_ + 1} end \\n\")\n",
        "\n"
      ],
      "metadata": {
        "colab": {
          "base_uri": "https://localhost:8080/"
        },
        "id": "PZuORdL5enhh",
        "outputId": "fd8413d6-96b8-4b97-80d9-09878c32510b"
      },
      "execution_count": 104,
      "outputs": [
        {
          "output_type": "stream",
          "name": "stdout",
          "text": [
            "Training until validation scores don't improve for 10 rounds.\n",
            "Early stopping, best iteration is:\n",
            "[38]\ttraining's binary_logloss: 0.287729\tvalid_1's binary_logloss: 0.391338\n",
            "fold1 end \n",
            "\n",
            "Training until validation scores don't improve for 10 rounds.\n",
            "Early stopping, best iteration is:\n",
            "[42]\ttraining's binary_logloss: 0.285903\tvalid_1's binary_logloss: 0.391242\n",
            "fold2 end \n",
            "\n",
            "Training until validation scores don't improve for 10 rounds.\n",
            "Early stopping, best iteration is:\n",
            "[34]\ttraining's binary_logloss: 0.281349\tvalid_1's binary_logloss: 0.446937\n",
            "fold3 end \n",
            "\n"
          ]
        }
      ]
    },
    {
      "cell_type": "code",
      "source": [
        "print(score_list, \"mean_score\", round(np.mean(score_list), 2))"
      ],
      "metadata": {
        "colab": {
          "base_uri": "https://localhost:8080/"
        },
        "id": "HbVloA44m2Mb",
        "outputId": "98dbe98e-f524-4924-c757-f62826396d0c"
      },
      "execution_count": 108,
      "outputs": [
        {
          "output_type": "stream",
          "name": "stdout",
          "text": [
            "[84.51, 84.18, 80.13] mean_score 82.94\n"
          ]
        }
      ]
    },
    {
      "cell_type": "code",
      "source": [
        "score = []\n",
        "for gbm in models:\n",
        "  score.append(gbm.predict(train.iloc[2, :]))\n",
        "\n",
        "print(score)\n",
        "pred_2 = (np.mean(score) > 0.5).astype(int)\n",
        "print(pred_2, y_train[2])"
      ],
      "metadata": {
        "colab": {
          "base_uri": "https://localhost:8080/"
        },
        "id": "eMJCwmN7oaqq",
        "outputId": "87d5f527-47c3-4277-eabf-f035131431fd"
      },
      "execution_count": 113,
      "outputs": [
        {
          "output_type": "stream",
          "name": "stdout",
          "text": [
            "[array([0.83265794]), array([0.65960798]), array([0.89785874])]\n",
            "1 1.0\n"
          ]
        },
        {
          "output_type": "stream",
          "name": "stderr",
          "text": [
            "/usr/local/lib/python3.7/dist-packages/lightgbm/basic.py:478: UserWarning: Converting data to scipy sparse matrix.\n",
            "  warnings.warn('Converting data to scipy sparse matrix.')\n"
          ]
        }
      ]
    },
    {
      "cell_type": "code",
      "source": [
        "with open('model.pickle', mode=\"wb\") as fp:\n",
        "  pickle.dump(models, fp)"
      ],
      "metadata": {
        "id": "p09p9bHxsSRT"
      },
      "execution_count": 114,
      "outputs": []
    }
  ]
}